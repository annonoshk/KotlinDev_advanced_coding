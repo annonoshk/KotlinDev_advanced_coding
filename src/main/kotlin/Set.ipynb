{
 "cells": [
  {
   "metadata": {},
   "cell_type": "markdown",
   "source": "#Set 1"
  },
  {
   "metadata": {
    "ExecuteTime": {
     "end_time": "2024-12-21T17:56:39.049366300Z",
     "start_time": "2024-12-21T17:56:38.689445800Z"
    }
   },
   "cell_type": "code",
   "source": [
    "\n",
    "fun main() {\n",
    "\n",
    "    val muMap = mutableListOf<String>(\"A\",\"B\",\"C\",\"D\")\n",
    "    val muSet = mutableSetOf<String>(\"A\",\"B\",\"C\",\"D\",\"D\",\"A\")\n",
    "\n",
    "    println(solution(muSet, muMap))\n",
    "    println(muSet)\n",
    "}\n",
    "\n",
    "\n",
    "fun solution(first: Set<String>, second: MutableList<String>): Boolean {\n",
    "    return (second.toSet() == first)\n",
    "}\n",
    "\n"
   ],
   "outputs": [],
   "execution_count": 1
  },
  {
   "metadata": {},
   "cell_type": "code",
   "outputs": [],
   "execution_count": null,
   "source": ""
  }
 ],
 "metadata": {
  "kernelspec": {
   "display_name": "Kotlin",
   "language": "kotlin",
   "name": "kotlin"
  },
  "language_info": {
   "name": "kotlin",
   "version": "1.9.23",
   "mimetype": "text/x-kotlin",
   "file_extension": ".kt",
   "pygments_lexer": "kotlin",
   "codemirror_mode": "text/x-kotlin",
   "nbconvert_exporter": ""
  }
 },
 "nbformat": 4,
 "nbformat_minor": 0
}
